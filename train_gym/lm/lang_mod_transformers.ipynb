{
 "cells": [
  {
   "cell_type": "code",
   "execution_count": 1,
   "id": "f7f39d97",
   "metadata": {},
   "outputs": [
    {
     "name": "stderr",
     "output_type": "stream",
     "text": [
      "/opt/conda/lib/python3.11/site-packages/tqdm/auto.py:21: TqdmWarning: IProgress not found. Please update jupyter and ipywidgets. See https://ipywidgets.readthedocs.io/en/stable/user_install.html\n",
      "  from .autonotebook import tqdm as notebook_tqdm\n"
     ]
    }
   ],
   "source": [
    "from datasets import load_dataset\n",
    "\n",
    "dataset_config_name = \"wikitext-2-raw-v1\"\n",
    "dataset_name = \"wikitext\"\n",
    "raw_datasets = load_dataset(\n",
    "    dataset_name,\n",
    "    dataset_config_name,\n",
    ")"
   ]
  },
  {
   "cell_type": "code",
   "execution_count": 2,
   "id": "d0437377",
   "metadata": {},
   "outputs": [
    {
     "data": {
      "text/plain": [
       "DatasetDict({\n",
       "    test: Dataset({\n",
       "        features: ['text'],\n",
       "        num_rows: 4358\n",
       "    })\n",
       "    train: Dataset({\n",
       "        features: ['text'],\n",
       "        num_rows: 36718\n",
       "    })\n",
       "    validation: Dataset({\n",
       "        features: ['text'],\n",
       "        num_rows: 3760\n",
       "    })\n",
       "})"
      ]
     },
     "execution_count": 2,
     "metadata": {},
     "output_type": "execute_result"
    }
   ],
   "source": [
    "raw_datasets"
   ]
  },
  {
   "cell_type": "markdown",
   "id": "ccf5fae7",
   "metadata": {},
   "source": [
    "### Document attention (flash attention)"
   ]
  },
  {
   "cell_type": "markdown",
   "id": "dd86ab50",
   "metadata": {},
   "source": [
    "- https://github.com/Dao-AILab/flash-attention/issues/654"
   ]
  },
  {
   "cell_type": "code",
   "execution_count": 1,
   "id": "b3781830",
   "metadata": {},
   "outputs": [
    {
     "name": "stdout",
     "output_type": "stream",
     "text": [
      "Shape of the output tensor: torch.Size([1792, 8, 16])\n",
      "Shape after reshaping to combine heads: torch.Size([1792, 128])\n"
     ]
    }
   ],
   "source": [
    "import torch\n",
    "from flash_attn import flash_attn_varlen_func\n",
    "\n",
    "# Assume we have 3 sequences of varying lengths\n",
    "seq_lens = [512, 1024, 256]\n",
    "batch_size = len(seq_lens)\n",
    "total_tokens = sum(seq_lens)\n",
    "\n",
    "# --- FIX IS HERE ---\n",
    "# We must define the head structure explicitly.\n",
    "# The `flash_attn` function expects inputs shaped for multi-head attention.\n",
    "num_heads = 8\n",
    "head_dim = 16  # The dimension of each attention head\n",
    "hidden_dim = num_heads * head_dim  # This would be 128 in our case\n",
    "\n",
    "# Create 3D packed tensors with the correct shape: (total_tokens, num_heads, head_dim)\n",
    "q = torch.randn(total_tokens, num_heads, head_dim, device=\"cuda\", dtype=torch.bfloat16)\n",
    "k = torch.randn(total_tokens, num_heads, head_dim, device=\"cuda\", dtype=torch.bfloat16)\n",
    "v = torch.randn(total_tokens, num_heads, head_dim, device=\"cuda\", dtype=torch.bfloat16)\n",
    "# --------------------\n",
    "\n",
    "# Create the all-important cumulative sequence length tensor\n",
    "# This part remains the same.\n",
    "cu_seqlens = torch.tensor(\n",
    "    [0] + list(torch.cumsum(torch.tensor(seq_lens), 0)),\n",
    "    dtype=torch.int32,\n",
    "    device=\"cuda\",\n",
    ")\n",
    "# cu_seqlens will be: tensor([0, 512, 1536, 1792], device='cuda:0', dtype=torch.int32)\n",
    "\n",
    "# Get the max sequence length in the batch\n",
    "max_seqlen = max(seq_lens)\n",
    "\n",
    "# Call the variable-length (packed) version of flash attention\n",
    "# This call now works because the input tensors have the correct 3D shape.\n",
    "output = flash_attn_varlen_func(\n",
    "    q,\n",
    "    k,\n",
    "    v,\n",
    "    cu_seqlens_q=cu_seqlens,\n",
    "    cu_seqlens_k=cu_seqlens,\n",
    "    max_seqlen_q=max_seqlen,\n",
    "    max_seqlen_k=max_seqlen,\n",
    "    causal=True,  # For decoder models\n",
    ")\n",
    "\n",
    "print(\"Shape of the output tensor:\", output.shape)\n",
    "\n",
    "# In a real transformer block, you would reshape the output back\n",
    "# to combine the heads before passing to the feed-forward network.\n",
    "output_reshaped = output.view(total_tokens, hidden_dim)\n",
    "print(\"Shape after reshaping to combine heads:\", output_reshaped.shape)"
   ]
  },
  {
   "cell_type": "code",
   "execution_count": null,
   "id": "5e670ea1",
   "metadata": {},
   "outputs": [],
   "source": []
  },
  {
   "cell_type": "code",
   "execution_count": null,
   "id": "dc6db236",
   "metadata": {},
   "outputs": [],
   "source": [
    "from trl import SFTConfig, SFTTrainer"
   ]
  }
 ],
 "metadata": {
  "kernelspec": {
   "display_name": "base",
   "language": "python",
   "name": "python3"
  },
  "language_info": {
   "codemirror_mode": {
    "name": "ipython",
    "version": 3
   },
   "file_extension": ".py",
   "mimetype": "text/x-python",
   "name": "python",
   "nbconvert_exporter": "python",
   "pygments_lexer": "ipython3",
   "version": "3.11.12"
  }
 },
 "nbformat": 4,
 "nbformat_minor": 5
}
