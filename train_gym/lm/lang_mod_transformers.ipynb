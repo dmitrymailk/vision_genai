{
 "cells": [
  {
   "cell_type": "code",
   "execution_count": 1,
   "id": "f7f39d97",
   "metadata": {},
   "outputs": [
    {
     "name": "stderr",
     "output_type": "stream",
     "text": [
      "/opt/conda/lib/python3.11/site-packages/tqdm/auto.py:21: TqdmWarning: IProgress not found. Please update jupyter and ipywidgets. See https://ipywidgets.readthedocs.io/en/stable/user_install.html\n",
      "  from .autonotebook import tqdm as notebook_tqdm\n"
     ]
    }
   ],
   "source": [
    "from datasets import load_dataset\n",
    "\n",
    "dataset_config_name = \"wikitext-2-raw-v1\"\n",
    "dataset_name = \"wikitext\"\n",
    "raw_datasets = load_dataset(\n",
    "    dataset_name,\n",
    "    dataset_config_name,\n",
    ")"
   ]
  },
  {
   "cell_type": "code",
   "execution_count": 2,
   "id": "d0437377",
   "metadata": {},
   "outputs": [
    {
     "data": {
      "text/plain": [
       "DatasetDict({\n",
       "    test: Dataset({\n",
       "        features: ['text'],\n",
       "        num_rows: 4358\n",
       "    })\n",
       "    train: Dataset({\n",
       "        features: ['text'],\n",
       "        num_rows: 36718\n",
       "    })\n",
       "    validation: Dataset({\n",
       "        features: ['text'],\n",
       "        num_rows: 3760\n",
       "    })\n",
       "})"
      ]
     },
     "execution_count": 2,
     "metadata": {},
     "output_type": "execute_result"
    }
   ],
   "source": [
    "raw_datasets"
   ]
  },
  {
   "cell_type": "markdown",
   "id": "ccf5fae7",
   "metadata": {},
   "source": [
    "### Document attention (flash attention)"
   ]
  },
  {
   "cell_type": "markdown",
   "id": "dd86ab50",
   "metadata": {},
   "source": [
    "- https://github.com/Dao-AILab/flash-attention/issues/654"
   ]
  },
  {
   "cell_type": "code",
   "execution_count": 1,
   "id": "b3781830",
   "metadata": {},
   "outputs": [
    {
     "name": "stdout",
     "output_type": "stream",
     "text": [
      "Shape of the output tensor: torch.Size([1792, 8, 16])\n",
      "Shape after reshaping to combine heads: torch.Size([1792, 128])\n"
     ]
    }
   ],
   "source": [
    "import torch\n",
    "from flash_attn import flash_attn_varlen_func\n",
    "\n",
    "# Assume we have 3 sequences of varying lengths\n",
    "seq_lens = [512, 1024, 256]\n",
    "batch_size = len(seq_lens)\n",
    "total_tokens = sum(seq_lens)\n",
    "\n",
    "# --- FIX IS HERE ---\n",
    "# We must define the head structure explicitly.\n",
    "# The `flash_attn` function expects inputs shaped for multi-head attention.\n",
    "num_heads = 8\n",
    "head_dim = 16  # The dimension of each attention head\n",
    "hidden_dim = num_heads * head_dim  # This would be 128 in our case\n",
    "\n",
    "# Create 3D packed tensors with the correct shape: (total_tokens, num_heads, head_dim)\n",
    "q = torch.randn(total_tokens, num_heads, head_dim, device=\"cuda\", dtype=torch.bfloat16)\n",
    "k = torch.randn(total_tokens, num_heads, head_dim, device=\"cuda\", dtype=torch.bfloat16)\n",
    "v = torch.randn(total_tokens, num_heads, head_dim, device=\"cuda\", dtype=torch.bfloat16)\n",
    "# --------------------\n",
    "\n",
    "# Create the all-important cumulative sequence length tensor\n",
    "# This part remains the same.\n",
    "cu_seqlens = torch.tensor(\n",
    "    [0] + list(torch.cumsum(torch.tensor(seq_lens), 0)),\n",
    "    dtype=torch.int32,\n",
    "    device=\"cuda\",\n",
    ")\n",
    "# cu_seqlens will be: tensor([0, 512, 1536, 1792], device='cuda:0', dtype=torch.int32)\n",
    "\n",
    "# Get the max sequence length in the batch\n",
    "max_seqlen = max(seq_lens)\n",
    "\n",
    "# Call the variable-length (packed) version of flash attention\n",
    "# This call now works because the input tensors have the correct 3D shape.\n",
    "output = flash_attn_varlen_func(\n",
    "    q,\n",
    "    k,\n",
    "    v,\n",
    "    cu_seqlens_q=cu_seqlens,\n",
    "    cu_seqlens_k=cu_seqlens,\n",
    "    max_seqlen_q=max_seqlen,\n",
    "    max_seqlen_k=max_seqlen,\n",
    "    causal=True,  # For decoder models\n",
    ")\n",
    "\n",
    "print(\"Shape of the output tensor:\", output.shape)\n",
    "\n",
    "# In a real transformer block, you would reshape the output back\n",
    "# to combine the heads before passing to the feed-forward network.\n",
    "output_reshaped = output.view(total_tokens, hidden_dim)\n",
    "print(\"Shape after reshaping to combine heads:\", output_reshaped.shape)"
   ]
  },
  {
   "cell_type": "code",
   "execution_count": 3,
   "id": "5e670ea1",
   "metadata": {},
   "outputs": [],
   "source": [
    "from transformers import DataCollatorWithFlattening\n",
    "from datasets import load_dataset\n",
    "\n",
    "train_dataset = load_dataset(\"microsoft/orca-math-word-problems-200k\")\n",
    "train_dataset = train_dataset[\"train\"]\n",
    "\n",
    "# use DataCollatorWithFlattening\n",
    "\n",
    "data_collator = DataCollatorWithFlattening()"
   ]
  },
  {
   "cell_type": "code",
   "execution_count": 2,
   "id": "4ed308d9",
   "metadata": {},
   "outputs": [
    {
     "data": {
      "text/plain": [
       "Dataset({\n",
       "    features: ['question', 'answer'],\n",
       "    num_rows: 200035\n",
       "})"
      ]
     },
     "execution_count": 2,
     "metadata": {},
     "output_type": "execute_result"
    }
   ],
   "source": [
    "train_dataset"
   ]
  },
  {
   "cell_type": "code",
   "execution_count": 4,
   "id": "6d094ec3",
   "metadata": {},
   "outputs": [
    {
     "data": {
      "text/plain": [
       "{'input_ids': [128000, 41, 2234, 74, 1982, 374, 279, 220, 20, 339, 2035, 13, 7531, 279, 1396, 315, 1274, 889, 28129, 279, 6381, 1584, 10819, 1109, 50432, 74, 1982, 13], 'attention_mask': [1, 1, 1, 1, 1, 1, 1, 1, 1, 1, 1, 1, 1, 1, 1, 1, 1, 1, 1, 1, 1, 1, 1, 1, 1, 1, 1, 1]}"
      ]
     },
     "execution_count": 4,
     "metadata": {},
     "output_type": "execute_result"
    }
   ],
   "source": [
    "from transformers import AutoTokenizer\n",
    "\n",
    "model_name = \"unsloth/Llama-3.2-1B-Instruct\"\n",
    "tokenizer = AutoTokenizer.from_pretrained(model_name)\n",
    "examples = [tokenizer(train_dataset[i][\"question\"]) for i in range(4)]\n",
    "# example['labels'] = example['input_ids']\n",
    "examples[0]"
   ]
  },
  {
   "cell_type": "code",
   "execution_count": 16,
   "id": "b71b4e81",
   "metadata": {},
   "outputs": [],
   "source": [
    "# dict(example)"
   ]
  },
  {
   "cell_type": "code",
   "execution_count": 24,
   "id": "0aaf2202",
   "metadata": {},
   "outputs": [
    {
     "data": {
      "text/plain": [
       "{'input_ids': tensor([[128000,     41,   2234,     74,   1982,    374,    279,    220,     20,\n",
       "             339,   2035,     13,   7531,    279,   1396,    315,   1274,    889,\n",
       "           28129,    279,   6381,   1584,  10819,   1109,  50432,     74,   1982,\n",
       "              13, 128000,     32,   1396,  18255,    555,    220,    605,    374,\n",
       "             220,     21,     13,  44188,    647,     72,   2751,    279,   1121,\n",
       "             555,  33356,    287,    220,    868,    505,    264,   3738,   1396,\n",
       "              13,   3639,    374,    279,   1121,    568,   2751,     30, 128000,\n",
       "              35,    647,   8783,  50243,    264,   6710,    315,   5684,    449,\n",
       "             264,   1396,   5439,    389,    433,     11,    323,   6944,    311,\n",
       "            1304,    264,   2380,  49442,   1396,    555,  25012,    279,   1176,\n",
       "            4183,   1396,    304,    279,  11758,   2035,     11,    279,   2132,\n",
       "            4183,    304,    279,  22781,   2035,     11,    323,    279,   4948,\n",
       "            4183,    304,    279,   8316,   2035,     13,   1442,    279,   5219,\n",
       "            5439,    389,   1855,   5684,    574,    220,     16,     11,    220,\n",
       "              21,     11,    323,    220,     23,     11,  15947,     11,   1505,\n",
       "             279,   2694,    315,    279,   2132,  25655,    323,   4948,  25655,\n",
       "            2380,  49442,   5219,    430,  53483,   8783,    649,   1304,     13,\n",
       "            4452,     11,    499,   4250,   3373,    279,   1890,  49926,   5684,\n",
       "            5361,   3115,     13, 128000,   2675,   4934,    311,  33356,    220,\n",
       "            2790,    505,    264,   1396,     11,    719,    499,  33484,  33356,\n",
       "             220,   2946,    323,    636,    220,   3391,     13,   2650,   1790,\n",
       "             656,    499,    636,    505,    279,   4495,  22702,     30]]),\n",
       " 'labels': tensor([[ -100,    41,  2234,    74,  1982,   374,   279,   220,    20,   339,\n",
       "           2035,    13,  7531,   279,  1396,   315,  1274,   889, 28129,   279,\n",
       "           6381,  1584, 10819,  1109, 50432,    74,  1982,    13,  -100,    32,\n",
       "           1396, 18255,   555,   220,   605,   374,   220,    21,    13, 44188,\n",
       "            647,    72,  2751,   279,  1121,   555, 33356,   287,   220,   868,\n",
       "            505,   264,  3738,  1396,    13,  3639,   374,   279,  1121,   568,\n",
       "           2751,    30,  -100,    35,   647,  8783, 50243,   264,  6710,   315,\n",
       "           5684,   449,   264,  1396,  5439,   389,   433,    11,   323,  6944,\n",
       "            311,  1304,   264,  2380, 49442,  1396,   555, 25012,   279,  1176,\n",
       "           4183,  1396,   304,   279, 11758,  2035,    11,   279,  2132,  4183,\n",
       "            304,   279, 22781,  2035,    11,   323,   279,  4948,  4183,   304,\n",
       "            279,  8316,  2035,    13,  1442,   279,  5219,  5439,   389,  1855,\n",
       "           5684,   574,   220,    16,    11,   220,    21,    11,   323,   220,\n",
       "             23,    11, 15947,    11,  1505,   279,  2694,   315,   279,  2132,\n",
       "          25655,   323,  4948, 25655,  2380, 49442,  5219,   430, 53483,  8783,\n",
       "            649,  1304,    13,  4452,    11,   499,  4250,  3373,   279,  1890,\n",
       "          49926,  5684,  5361,  3115,    13,  -100,  2675,  4934,   311, 33356,\n",
       "            220,  2790,   505,   264,  1396,    11,   719,   499, 33484, 33356,\n",
       "            220,  2946,   323,   636,   220,  3391,    13,  2650,  1790,   656,\n",
       "            499,   636,   505,   279,  4495, 22702,    30]]),\n",
       " 'position_ids': tensor([[  0,   1,   2,   3,   4,   5,   6,   7,   8,   9,  10,  11,  12,  13,\n",
       "           14,  15,  16,  17,  18,  19,  20,  21,  22,  23,  24,  25,  26,  27,\n",
       "            0,   1,   2,   3,   4,   5,   6,   7,   8,   9,  10,  11,  12,  13,\n",
       "           14,  15,  16,  17,  18,  19,  20,  21,  22,  23,  24,  25,  26,  27,\n",
       "           28,  29,  30,  31,  32,  33,   0,   1,   2,   3,   4,   5,   6,   7,\n",
       "            8,   9,  10,  11,  12,  13,  14,  15,  16,  17,  18,  19,  20,  21,\n",
       "           22,  23,  24,  25,  26,  27,  28,  29,  30,  31,  32,  33,  34,  35,\n",
       "           36,  37,  38,  39,  40,  41,  42,  43,  44,  45,  46,  47,  48,  49,\n",
       "           50,  51,  52,  53,  54,  55,  56,  57,  58,  59,  60,  61,  62,  63,\n",
       "           64,  65,  66,  67,  68,  69,  70,  71,  72,  73,  74,  75,  76,  77,\n",
       "           78,  79,  80,  81,  82,  83,  84,  85,  86,  87,  88,  89,  90,  91,\n",
       "           92,  93,  94,  95,  96,  97,  98,  99, 100, 101, 102,   0,   1,   2,\n",
       "            3,   4,   5,   6,   7,   8,   9,  10,  11,  12,  13,  14,  15,  16,\n",
       "           17,  18,  19,  20,  21,  22,  23,  24,  25,  26,  27,  28,  29,  30,\n",
       "           31]])}"
      ]
     },
     "execution_count": 24,
     "metadata": {},
     "output_type": "execute_result"
    }
   ],
   "source": [
    "data_collator(examples)"
   ]
  },
  {
   "cell_type": "code",
   "execution_count": 8,
   "id": "047a4673",
   "metadata": {},
   "outputs": [],
   "source": [
    "from transformers import AutoModelForCausalLM\n",
    "import torch\n",
    "\n",
    "model = AutoModelForCausalLM.from_pretrained(\n",
    "    model_name,\n",
    "    device_map={\"\": 0},\n",
    "    attn_implementation=\"flash_attention_2\",\n",
    "    torch_dtype=torch.bfloat16,\n",
    ")"
   ]
  },
  {
   "cell_type": "code",
   "execution_count": 27,
   "id": "bd06a6fb",
   "metadata": {},
   "outputs": [],
   "source": [
    "model_input = data_collator(examples)\n",
    "for key in model_input.keys():\n",
    "    model_input[key] = model_input[key].to(\"cuda\")\n",
    "    model_input[key] = torch.cat(\n",
    "        [model_input[key], model_input[key]],\n",
    "        dim=0,\n",
    "    )"
   ]
  },
  {
   "cell_type": "code",
   "execution_count": 28,
   "id": "b04d765c",
   "metadata": {},
   "outputs": [
    {
     "data": {
      "text/plain": [
       "torch.Size([2, 197])"
      ]
     },
     "execution_count": 28,
     "metadata": {},
     "output_type": "execute_result"
    }
   ],
   "source": [
    "model_input['input_ids'].shape"
   ]
  },
  {
   "cell_type": "code",
   "execution_count": 29,
   "id": "3f097753",
   "metadata": {},
   "outputs": [
    {
     "data": {
      "text/plain": [
       "CausalLMOutputWithPast(loss=tensor(2.6010, device='cuda:0'), logits=tensor([[[ 2.8438,  3.5625,  7.0000,  ..., -1.2500, -1.2500, -1.2500],\n",
       "         [ 7.8438,  5.3125,  5.8438,  ...,  0.1299,  0.1309,  0.1309],\n",
       "         [ 7.8438,  5.5625,  4.2812,  ..., -1.7031, -1.7031, -1.7031],\n",
       "         ...,\n",
       "         [11.1250,  6.5625,  6.1250,  ..., -0.0830, -0.0830, -0.0830],\n",
       "         [12.1875,  6.3438,  6.0312,  ..., -0.4082, -0.4082, -0.4082],\n",
       "         [ 7.0000,  2.2500,  5.8438,  ..., -1.2734, -1.2734, -1.2734]],\n",
       "\n",
       "        [[ 2.8438,  3.5625,  7.0000,  ..., -1.2500, -1.2500, -1.2500],\n",
       "         [ 7.8438,  5.3125,  5.8438,  ...,  0.1299,  0.1309,  0.1309],\n",
       "         [ 7.8438,  5.5625,  4.2812,  ..., -1.7031, -1.7031, -1.7031],\n",
       "         ...,\n",
       "         [11.1250,  6.5625,  6.1250,  ..., -0.0830, -0.0830, -0.0830],\n",
       "         [12.1875,  6.3438,  6.0312,  ..., -0.4082, -0.4082, -0.4082],\n",
       "         [ 7.0000,  2.2500,  5.8438,  ..., -1.2734, -1.2734, -1.2734]]],\n",
       "       device='cuda:0', dtype=torch.bfloat16), past_key_values=<transformers.cache_utils.DynamicCache object at 0x72b518e1ed90>, hidden_states=None, attentions=None)"
      ]
     },
     "execution_count": 29,
     "metadata": {},
     "output_type": "execute_result"
    }
   ],
   "source": [
    "with torch.no_grad():\n",
    "    model_result = model(**model_input)\n",
    "model_result"
   ]
  },
  {
   "cell_type": "code",
   "execution_count": 30,
   "id": "b4a6b9dd",
   "metadata": {},
   "outputs": [
    {
     "data": {
      "text/plain": [
       "torch.Size([2, 197])"
      ]
     },
     "execution_count": 30,
     "metadata": {},
     "output_type": "execute_result"
    }
   ],
   "source": [
    "model_input[\"input_ids\"].shape"
   ]
  },
  {
   "cell_type": "code",
   "execution_count": 17,
   "id": "f9af5484",
   "metadata": {},
   "outputs": [
    {
     "data": {
      "text/plain": [
       "torch.Size([1, 197, 128256])"
      ]
     },
     "execution_count": 17,
     "metadata": {},
     "output_type": "execute_result"
    }
   ],
   "source": [
    "model_result.logits.shape"
   ]
  }
 ],
 "metadata": {
  "kernelspec": {
   "display_name": "base",
   "language": "python",
   "name": "python3"
  },
  "language_info": {
   "codemirror_mode": {
    "name": "ipython",
    "version": 3
   },
   "file_extension": ".py",
   "mimetype": "text/x-python",
   "name": "python",
   "nbconvert_exporter": "python",
   "pygments_lexer": "ipython3",
   "version": "3.11.12"
  }
 },
 "nbformat": 4,
 "nbformat_minor": 5
}
