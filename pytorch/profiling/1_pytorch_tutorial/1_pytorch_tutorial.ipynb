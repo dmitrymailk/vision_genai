{
  "cells": [
    {
      "cell_type": "markdown",
      "metadata": {},
      "source": [
        "https://pytorch.org/tutorials/beginner/profiler.html"
      ]
    },
    {
      "cell_type": "code",
      "execution_count": 1,
      "metadata": {
        "id": "9UbSUQ2cgace"
      },
      "outputs": [],
      "source": [
        "# For tips on running notebooks in Google Colab, see\n",
        "# https://pytorch.org/tutorials/beginner/colab\n",
        "%matplotlib inline"
      ]
    },
    {
      "cell_type": "markdown",
      "metadata": {
        "id": "1kWB-Enbgacg"
      },
      "source": [
        "\n",
        "# Profiling your PyTorch Module\n",
        "\n",
        "**Author:** [Suraj Subramanian](https://github.com/suraj813)\n",
        "\n",
        "PyTorch includes a profiler API that is useful to identify the time and\n",
        "memory costs of various PyTorch operations in your code. Profiler can be\n",
        "easily integrated in your code, and the results can be printed as a table\n",
        "or returned in a JSON trace file.\n",
        "\n",
        "<div class=\"alert alert-info\"><h4>Note</h4><p>Profiler supports multithreaded models. Profiler runs in the\n",
        "    same thread as the operation but it will also profile child operators\n",
        "    that might run in another thread. Concurrently-running profilers will be\n",
        "    scoped to their own thread to prevent mixing of results.</p></div>\n",
        "\n",
        "<div class=\"alert alert-info\"><h4>Note</h4><p>PyTorch 1.8 introduces the new API that will replace the older profiler API\n",
        "    in the future releases. Check the new API at [this page](https://pytorch.org/docs/master/profiler.html)_.</p></div>\n",
        "\n",
        "Head on over to [this\n",
        "recipe](https://pytorch.org/tutorials/recipes/recipes/profiler_recipe.html)_\n",
        "for a quicker walkthrough of Profiler API usage.\n",
        "\n",
        "\n",
        "--------------\n"
      ]
    },
    {
      "cell_type": "code",
      "execution_count": 2,
      "metadata": {
        "id": "VNU8fA7bgach"
      },
      "outputs": [],
      "source": [
        "import torch\n",
        "import numpy as np\n",
        "from torch import nn\n",
        "import torch.autograd.profiler as profiler"
      ]
    },
    {
      "cell_type": "markdown",
      "metadata": {
        "id": "wUnZvEYMgach"
      },
      "source": [
        "## Performance debugging using Profiler\n",
        "\n",
        "Profiler can be useful to identify performance bottlenecks in your\n",
        "models. In this example, we build a custom module that performs two\n",
        "sub-tasks:\n",
        "\n",
        "- a linear transformation on the input, and\n",
        "- use the transformation result to get indices on a mask tensor.\n",
        "\n",
        "We wrap the code for each sub-task in separate labelled context managers using\n",
        "``profiler.record_function(\"label\")``. In the profiler output, the\n",
        "aggregate performance metrics of all operations in the sub-task will\n",
        "show up under its corresponding label.\n",
        "\n",
        "\n",
        "Note that using Profiler incurs some overhead, and is best used only for investigating\n",
        "code. Remember to remove it if you are benchmarking runtimes.\n",
        "\n",
        "\n"
      ]
    },
    {
      "cell_type": "code",
      "execution_count": 3,
      "metadata": {
        "id": "RUoa-IVPgaci"
      },
      "outputs": [],
      "source": [
        "class MyModule(nn.Module):\n",
        "    def __init__(self, in_features: int, out_features: int, bias: bool = True):\n",
        "        super(MyModule, self).__init__()\n",
        "        self.linear = nn.Linear(in_features, out_features, bias)\n",
        "\n",
        "    def forward(self, input, mask):\n",
        "        with profiler.record_function(\"LINEAR PASS\"):\n",
        "            out = self.linear(input)\n",
        "\n",
        "        with profiler.record_function(\"MASK INDICES\"):\n",
        "            threshold = out.sum(axis=1).mean().item()\n",
        "            hi_idx = np.argwhere(mask.cpu().numpy() > threshold)\n",
        "            hi_idx = torch.from_numpy(hi_idx).cuda()\n",
        "\n",
        "        return out, hi_idx"
      ]
    },
    {
      "cell_type": "markdown",
      "metadata": {
        "id": "RRoS-doSgaci"
      },
      "source": [
        "## Profile the forward pass\n",
        "\n",
        "We initialize random input and mask tensors, and the model.\n",
        "\n",
        "Before we run the profiler, we warm-up CUDA to ensure accurate\n",
        "performance benchmarking. We wrap the forward pass of our module in the\n",
        "``profiler.profile`` context manager. The ``with_stack=True`` parameter appends the\n",
        "file and line number of the operation in the trace.\n",
        "\n",
        "<div class=\"alert alert-danger\"><h4>Warning</h4><p>``with_stack=True`` incurs an additional overhead, and is better suited for investigating code.\n",
        "    Remember to remove it if you are benchmarking performance.</p></div>\n",
        "\n",
        "\n"
      ]
    },
    {
      "cell_type": "markdown",
      "metadata": {
        "id": "W2ThOe19gacj"
      },
      "source": [
        "## Print profiler results\n",
        "\n",
        "Finally, we print the profiler results. ``profiler.key_averages``\n",
        "aggregates the results by operator name, and optionally by input\n",
        "shapes and/or stack trace events.\n",
        "Grouping by input shapes is useful to identify which tensor shapes\n",
        "are utilized by the model.\n",
        "\n",
        "Here, we use ``group_by_stack_n=5`` which aggregates runtimes by the\n",
        "operation and its traceback (truncated to the most recent 5 events), and\n",
        "display the events in the order they are registered. The table can also\n",
        "be sorted by passing a ``sort_by`` argument (refer to the\n",
        "[docs](https://pytorch.org/docs/stable/autograd.html#profiler)_ for\n",
        "valid sorting keys).\n",
        "\n",
        "<div class=\"alert alert-info\"><h4>Note</h4><p>When running profiler in a notebook, you might see entries like ``<ipython-input-18-193a910735e8>(13): forward``\n",
        "  instead of filenames in the stacktrace. These correspond to ``<notebook-cell>(line number): calling-function``.</p></div>\n",
        "\n"
      ]
    },
    {
      "cell_type": "code",
      "execution_count": 4,
      "metadata": {
        "id": "oUrXfNtKgacj"
      },
      "outputs": [
        {
          "name": "stderr",
          "output_type": "stream",
          "text": [
            "/opt/conda/lib/python3.10/site-packages/tqdm/auto.py:21: TqdmWarning: IProgress not found. Please update jupyter and ipywidgets. See https://ipywidgets.readthedocs.io/en/stable/user_install.html\n",
            "  from .autonotebook import tqdm as notebook_tqdm\n",
            "STAGE:2024-03-11 13:05:09 566:566 ActivityProfilerController.cpp:312] Completed Stage: Warm Up\n"
          ]
        },
        {
          "name": "stdout",
          "output_type": "stream",
          "text": [
            "-------------------------------------------------  ------------  ------------  ------------  ------------  ------------  ------------  ------------  ------------  ------------  ------------  \n",
            "                                             Name    Self CPU %      Self CPU   CPU total %     CPU total  CPU time avg       CPU Mem  Self CPU Mem      CUDA Mem  Self CUDA Mem    # of Calls  \n",
            "-------------------------------------------------  ------------  ------------  ------------  ------------  ------------  ------------  ------------  ------------  ------------  ------------  \n",
            "                                     MASK INDICES        74.71%        1.517s        99.91%        2.028s        2.028s           0 b    -953.67 Mb       2.79 Gb      -1.00 Kb             1  \n",
            "                                  cudaMemcpyAsync        25.19%     511.294ms        25.19%     511.294ms     170.431ms           0 b           0 b           0 b           0 b             3  \n",
            "                                      aten::addmm         0.05%       1.052ms         0.06%       1.180ms       1.180ms           0 b           0 b       5.00 Kb       5.00 Kb             1  \n",
            "                                     aten::linear         0.01%     293.000us         0.07%       1.499ms       1.499ms           0 b           0 b       5.00 Kb           0 b             1  \n",
            "                                      LINEAR PASS         0.01%     249.000us         0.09%       1.748ms       1.748ms           0 b           0 b       5.00 Kb           0 b             1  \n",
            "-------------------------------------------------  ------------  ------------  ------------  ------------  ------------  ------------  ------------  ------------  ------------  ------------  \n",
            "Self CPU time total: 2.030s\n",
            "\n"
          ]
        },
        {
          "name": "stderr",
          "output_type": "stream",
          "text": [
            "STAGE:2024-03-11 13:05:11 566:566 ActivityProfilerController.cpp:318] Completed Stage: Collection\n",
            "STAGE:2024-03-11 13:05:11 566:566 ActivityProfilerController.cpp:322] Completed Stage: Post Processing\n"
          ]
        }
      ],
      "source": [
        "model = MyModule(500, 10).cuda()\n",
        "input = torch.rand(128, 500).cuda()\n",
        "mask = torch.rand((500, 500, 500), dtype=torch.double).cuda()\n",
        "\n",
        "# warm-up\n",
        "model(input, mask)\n",
        "\n",
        "with profiler.profile(with_stack=True, profile_memory=True, with_modules=True,) as prof:\n",
        "    out, idx = model(input, mask)\n",
        "    \n",
        "print(prof.key_averages(group_by_stack_n=5).table(sort_by='self_cpu_time_total', row_limit=5))"
      ]
    },
    {
      "cell_type": "markdown",
      "metadata": {
        "id": "l6Q84ao8gacj"
      },
      "source": [
        "## Improve memory performance\n",
        "Note that the most expensive operations - in terms of memory and time -\n",
        "are at ``forward (10)`` representing the operations within MASK INDICES. Let’s try to\n",
        "tackle the memory consumption first. We can see that the ``.to()``\n",
        "operation at line 12 consumes 953.67 Mb. This operation copies ``mask`` to the CPU.\n",
        "``mask`` is initialized with a ``torch.double`` datatype. Can we reduce the memory footprint by casting\n",
        "it to ``torch.float`` instead?\n",
        "\n",
        "\n"
      ]
    },
    {
      "cell_type": "code",
      "execution_count": 5,
      "metadata": {
        "id": "k9_LDrMggack"
      },
      "outputs": [
        {
          "name": "stderr",
          "output_type": "stream",
          "text": [
            "STAGE:2024-03-11 13:05:33 566:566 ActivityProfilerController.cpp:312] Completed Stage: Warm Up\n"
          ]
        },
        {
          "name": "stdout",
          "output_type": "stream",
          "text": [
            "-------------------------------------------------  ------------  ------------  ------------  ------------  ------------  ------------  ------------  ------------  ------------  ------------  \n",
            "                                             Name    Self CPU %      Self CPU   CPU total %     CPU total  CPU time avg       CPU Mem  Self CPU Mem      CUDA Mem  Self CUDA Mem    # of Calls  \n",
            "-------------------------------------------------  ------------  ------------  ------------  ------------  ------------  ------------  ------------  ------------  ------------  ------------  \n",
            "                                     MASK INDICES        80.20%        1.488s        99.94%        1.854s        1.854s           0 b    -476.84 Mb       2.79 Gb      -1.00 Kb             1  \n",
            "                                  cudaMemcpyAsync        19.72%     365.963ms        19.72%     365.963ms     121.988ms           0 b           0 b           0 b           0 b             3  \n",
            "                                      aten::addmm         0.06%       1.025ms         0.06%       1.045ms       1.045ms           0 b           0 b       5.00 Kb       5.00 Kb             1  \n",
            "                                      LINEAR PASS         0.00%      66.000us         0.06%       1.138ms       1.138ms           0 b           0 b       5.00 Kb           0 b             1  \n",
            "                            cudaStreamSynchronize         0.00%      45.000us         0.00%      45.000us      15.000us           0 b           0 b           0 b           0 b             3  \n",
            "-------------------------------------------------  ------------  ------------  ------------  ------------  ------------  ------------  ------------  ------------  ------------  ------------  \n",
            "Self CPU time total: 1.855s\n",
            "\n"
          ]
        },
        {
          "name": "stderr",
          "output_type": "stream",
          "text": [
            "STAGE:2024-03-11 13:05:35 566:566 ActivityProfilerController.cpp:318] Completed Stage: Collection\n",
            "STAGE:2024-03-11 13:05:35 566:566 ActivityProfilerController.cpp:322] Completed Stage: Post Processing\n"
          ]
        }
      ],
      "source": [
        "model = MyModule(500, 10).cuda()\n",
        "input = torch.rand(128, 500).cuda()\n",
        "mask = torch.rand((500, 500, 500), dtype=torch.float).cuda()\n",
        "\n",
        "# warm-up\n",
        "model(input, mask)\n",
        "\n",
        "with profiler.profile(with_stack=True, profile_memory=True) as prof:\n",
        "    out, idx = model(input, mask)\n",
        "\n",
        "print(prof.key_averages(group_by_stack_n=5).table(sort_by='self_cpu_time_total', row_limit=5))"
      ]
    },
    {
      "cell_type": "markdown",
      "metadata": {
        "id": "cGXYU3Lggack"
      },
      "source": [
        "The CPU memory footprint for this operation has halved.\n",
        "\n",
        "## Improve time performance\n",
        "While the time consumed has also reduced a bit, it’s still too high.\n",
        "Turns out copying a matrix from CUDA to CPU is pretty expensive!\n",
        "The ``aten::copy_`` operator in ``forward (12)`` copies ``mask`` to CPU\n",
        "so that it can use the NumPy ``argwhere`` function. ``aten::copy_`` at ``forward(13)``\n",
        "copies the array back to CUDA as a tensor. We could eliminate both of these if we use a\n",
        "``torch`` function ``nonzero()`` here instead.\n",
        "\n",
        "\n"
      ]
    },
    {
      "cell_type": "code",
      "execution_count": 6,
      "metadata": {
        "id": "OAb6rlW-gack"
      },
      "outputs": [
        {
          "name": "stderr",
          "output_type": "stream",
          "text": [
            "STAGE:2024-03-11 13:05:46 566:566 ActivityProfilerController.cpp:312] Completed Stage: Warm Up\n"
          ]
        },
        {
          "name": "stdout",
          "output_type": "stream",
          "text": [
            "-------------------------------------------------------  ------------  ------------  ------------  ------------  ------------  ------------  ------------  ------------  ------------  ------------  \n",
            "                                                   Name    Self CPU %      Self CPU   CPU total %     CPU total  CPU time avg       CPU Mem  Self CPU Mem      CUDA Mem  Self CUDA Mem    # of Calls  \n",
            "-------------------------------------------------------  ------------  ------------  ------------  ------------  ------------  ------------  ------------  ------------  ------------  ------------  \n",
            "                                          aten::nonzero        91.72%     254.853ms        99.58%     276.692ms     276.692ms           0 b           0 b       1.78 Gb           0 b             1  \n",
            "                                        cudaMemcpyAsync         4.27%      11.869ms         4.27%      11.869ms      11.869ms           0 b           0 b           0 b           0 b             1  \n",
            "                                             aten::set_         3.56%       9.900ms         3.56%       9.900ms       9.900ms           0 b           0 b           0 b           0 b             1  \n",
            "                                           aten::unbind         0.14%     385.000us         0.15%     416.000us     416.000us           0 b           0 b           0 b           0 b             1  \n",
            "                                            aten::addmm         0.09%     237.000us         0.09%     261.000us     261.000us           0 b           0 b       5.00 Kb       5.00 Kb             1  \n",
            "-------------------------------------------------------  ------------  ------------  ------------  ------------  ------------  ------------  ------------  ------------  ------------  ------------  \n",
            "Self CPU time total: 277.849ms\n",
            "\n"
          ]
        },
        {
          "name": "stderr",
          "output_type": "stream",
          "text": [
            "STAGE:2024-03-11 13:05:47 566:566 ActivityProfilerController.cpp:318] Completed Stage: Collection\n",
            "STAGE:2024-03-11 13:05:47 566:566 ActivityProfilerController.cpp:322] Completed Stage: Post Processing\n"
          ]
        }
      ],
      "source": [
        "class MyModule(nn.Module):\n",
        "    def __init__(self, in_features: int, out_features: int, bias: bool = True):\n",
        "        super(MyModule, self).__init__()\n",
        "        self.linear = nn.Linear(in_features, out_features, bias)\n",
        "\n",
        "    def forward(self, input, mask):\n",
        "        with profiler.record_function(\"LINEAR PASS\"):\n",
        "            out = self.linear(input)\n",
        "\n",
        "        with profiler.record_function(\"MASK INDICES\"):\n",
        "            threshold = out.sum(axis=1).mean()\n",
        "            hi_idx = (mask > threshold).nonzero(as_tuple=True)\n",
        "\n",
        "        return out, hi_idx\n",
        "\n",
        "\n",
        "model = MyModule(500, 10).cuda()\n",
        "input = torch.rand(128, 500).cuda()\n",
        "mask = torch.rand((500, 500, 500), dtype=torch.float).cuda()\n",
        "\n",
        "# warm-up\n",
        "model(input, mask)\n",
        "\n",
        "with profiler.profile(with_stack=True, profile_memory=True) as prof:\n",
        "    out, idx = model(input, mask)\n",
        "\n",
        "print(prof.key_averages(group_by_stack_n=5).table(sort_by='self_cpu_time_total', row_limit=5))"
      ]
    },
    {
      "cell_type": "markdown",
      "metadata": {
        "id": "xXquPjTOgack"
      },
      "source": [
        "## Further Reading\n",
        "We have seen how Profiler can be used to investigate time and memory bottlenecks in PyTorch models.\n",
        "Read more about Profiler here:\n",
        "\n",
        "- [Profiler Usage Recipe](https://pytorch.org/tutorials/recipes/recipes/profiler.html)_\n",
        "- [Profiling RPC-Based Workloads](https://pytorch.org/tutorials/recipes/distributed_rpc_profiling.html)_\n",
        "- [Profiler API Docs](https://pytorch.org/docs/stable/autograd.html?highlight=profiler#profiler)_\n",
        "\n"
      ]
    }
  ],
  "metadata": {
    "colab": {
      "provenance": []
    },
    "kernelspec": {
      "display_name": "Python 3",
      "language": "python",
      "name": "python3"
    },
    "language_info": {
      "codemirror_mode": {
        "name": "ipython",
        "version": 3
      },
      "file_extension": ".py",
      "mimetype": "text/x-python",
      "name": "python",
      "nbconvert_exporter": "python",
      "pygments_lexer": "ipython3",
      "version": "3.10.13"
    }
  },
  "nbformat": 4,
  "nbformat_minor": 0
}
