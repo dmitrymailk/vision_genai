{
 "cells": [
  {
   "cell_type": "markdown",
   "id": "58b7e166",
   "metadata": {},
   "source": [
    "https://depyf.readthedocs.io/en/latest/opt_tutorial.html"
   ]
  },
  {
   "cell_type": "code",
   "execution_count": 1,
   "id": "1143d17d",
   "metadata": {},
   "outputs": [
    {
     "name": "stdout",
     "output_type": "stream",
     "text": [
      "0.09114861488342285\n"
     ]
    }
   ],
   "source": [
    "import torch\n",
    "\n",
    "\n",
    "class F(torch.nn.Module):\n",
    "    def __init__(self, i):\n",
    "        super().__init__()\n",
    "        self.i = i\n",
    "\n",
    "    def forward(self, x):\n",
    "        return x + self.i\n",
    "\n",
    "\n",
    "class Mod(torch.nn.Module):\n",
    "    def __init__(self, n: int):\n",
    "        super().__init__()\n",
    "        self.fs = torch.nn.ModuleList([F(i) for i in range(n)])\n",
    "\n",
    "    @torch.compile\n",
    "    def forward(self, x):\n",
    "        for f in self.fs:\n",
    "            x = f(x)\n",
    "        return x\n",
    "\n",
    "\n",
    "total_time = 0\n",
    "import time\n",
    "\n",
    "mod = Mod(100)\n",
    "mod(torch.tensor([1]))  # Compile the function\n",
    "\n",
    "x = torch.tensor([2])  # Create input tensor\n",
    "start = time.time()\n",
    "for i in range(10000):\n",
    "    y = mod(x)\n",
    "    # do something with y\n",
    "end = time.time()\n",
    "total_time += end - start\n",
    "print(total_time)"
   ]
  },
  {
   "cell_type": "markdown",
   "id": "ac3b6c76",
   "metadata": {},
   "source": [
    "### import depyf"
   ]
  },
  {
   "cell_type": "code",
   "execution_count": 2,
   "id": "90b14bd9",
   "metadata": {},
   "outputs": [],
   "source": [
    "!pip install depyf -q"
   ]
  },
  {
   "cell_type": "code",
   "execution_count": 3,
   "id": "47108f51",
   "metadata": {},
   "outputs": [
    {
     "name": "stderr",
     "output_type": "stream",
     "text": [
      ":0: UserWarning: /home/user-name-goes-here/.local/lib/python3.11/site-packages/depyf/explain/enable_debugging.py:163: You are trying to debug `torch.compile`. Please make sure the code runs multiple times to cover all the possible branches.\n"
     ]
    },
    {
     "name": "stdout",
     "output_type": "stream",
     "text": [
      "0.09391260147094727\n"
     ]
    }
   ],
   "source": [
    "import torch\n",
    "import depyf\n",
    "\n",
    "\n",
    "class F(torch.nn.Module):\n",
    "    def __init__(self, i):\n",
    "        super().__init__()\n",
    "        self.i = i\n",
    "\n",
    "    def forward(self, x):\n",
    "        return x + self.i\n",
    "\n",
    "\n",
    "class Mod(torch.nn.Module):\n",
    "    def __init__(self, n: int):\n",
    "        super().__init__()\n",
    "        self.fs = torch.nn.ModuleList([F(i) for i in range(n)])\n",
    "\n",
    "    @torch.compile\n",
    "    def forward(self, x):\n",
    "        for f in self.fs:\n",
    "            x = f(x)\n",
    "        return x\n",
    "\n",
    "\n",
    "total_time = 0\n",
    "import time\n",
    "\n",
    "mod = Mod(100)\n",
    "with depyf.prepare_debug(\"pytorch/torch_compile/dump_src_dir/\"):\n",
    "    mod(torch.tensor([1]))\n",
    "\n",
    "\n",
    "x = torch.tensor([2])  # Create input tensor\n",
    "start = time.time()\n",
    "for i in range(10000):\n",
    "    y = mod(x)\n",
    "    # do something with y\n",
    "end = time.time()\n",
    "total_time += end - start\n",
    "print(total_time)"
   ]
  },
  {
   "cell_type": "code",
   "execution_count": 5,
   "id": "2d21465e",
   "metadata": {},
   "outputs": [
    {
     "name": "stdout",
     "output_type": "stream",
     "text": [
      "0.026301145553588867\n"
     ]
    }
   ],
   "source": [
    "import torch\n",
    "import depyf\n",
    "from depyf.optimization import TorchCompileWrapperWithCustomDispatcher\n",
    "\n",
    "\n",
    "class F(torch.nn.Module):\n",
    "    def __init__(self, i):\n",
    "        super().__init__()\n",
    "        self.i = i\n",
    "\n",
    "    def forward(self, x):\n",
    "        return x + self.i\n",
    "\n",
    "\n",
    "class Mod(TorchCompileWrapperWithCustomDispatcher):\n",
    "    def __init__(self, n: int):\n",
    "        self.fs = torch.nn.ModuleList([F(i) for i in range(n)])\n",
    "        compiled_callable = torch.compile(self.forward)\n",
    "        super().__init__(compiled_callable)\n",
    "\n",
    "    def forward(self, x):\n",
    "        for f in self.fs:\n",
    "            x = f(x)\n",
    "        return x\n",
    "\n",
    "    def __call__(self, x):\n",
    "        if len(self.compiled_codes) == 1:\n",
    "            with self.dispatch_to_code(0):\n",
    "                return self.forward(x)\n",
    "        else:\n",
    "            return self.compiled_callable(x)\n",
    "\n",
    "\n",
    "total_time = 0\n",
    "import time\n",
    "\n",
    "mod = Mod(100)\n",
    "mod(torch.tensor([1]))  # Compile\n",
    "\n",
    "x = torch.tensor([2])  # Input tensor\n",
    "start = time.time()\n",
    "for i in range(10000):\n",
    "    y = mod(x)\n",
    "end = time.time()\n",
    "total_time += end - start\n",
    "print(total_time)"
   ]
  },
  {
   "cell_type": "markdown",
   "id": "049c05ee",
   "metadata": {},
   "source": [
    "In this code, the TorchCompileWrapperWithCustomDispatcher class is used to bypass the checks. By doing this, the execution time drops to about 0.05 seconds, compared to the original 0.7 seconds. This shows that the checks were responsible for most of the overhead."
   ]
  },
  {
   "cell_type": "markdown",
   "id": "82b8d09e",
   "metadata": {},
   "source": [
    "Реальный пример, когда убирают guards в vllm и производительность растет\n",
    "- https://github.com/vllm-project/vllm/pull/7898"
   ]
  },
  {
   "cell_type": "markdown",
   "id": "10d9bbe5",
   "metadata": {},
   "source": [
    "официальные доки https://docs.pytorch.org/docs/stable/torch.compiler_dynamo_overview.html"
   ]
  }
 ],
 "metadata": {
  "kernelspec": {
   "display_name": "base",
   "language": "python",
   "name": "python3"
  },
  "language_info": {
   "codemirror_mode": {
    "name": "ipython",
    "version": 3
   },
   "file_extension": ".py",
   "mimetype": "text/x-python",
   "name": "python",
   "nbconvert_exporter": "python",
   "pygments_lexer": "ipython3",
   "version": "3.11.12"
  }
 },
 "nbformat": 4,
 "nbformat_minor": 5
}
