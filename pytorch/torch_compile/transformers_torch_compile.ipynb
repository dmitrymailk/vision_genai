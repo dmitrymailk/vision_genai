{
 "cells": [
  {
   "cell_type": "markdown",
   "id": "45467fc4",
   "metadata": {},
   "source": [
    "https://huggingface.co/docs/transformers/en/perf_torch_compile#fullgraph"
   ]
  },
  {
   "cell_type": "code",
   "execution_count": 1,
   "id": "1f4c0340",
   "metadata": {},
   "outputs": [
    {
     "name": "stderr",
     "output_type": "stream",
     "text": [
      "/opt/conda/lib/python3.11/site-packages/tqdm/auto.py:21: TqdmWarning: IProgress not found. Please update jupyter and ipywidgets. See https://ipywidgets.readthedocs.io/en/stable/user_install.html\n",
      "  from .autonotebook import tqdm as notebook_tqdm\n",
      "Loading checkpoint shards: 100%|██████████| 2/2 [00:00<00:00,  3.95it/s]\n"
     ]
    }
   ],
   "source": [
    "from transformers import AutoModelForCausalLM\n",
    "import torch\n",
    "\n",
    "model = AutoModelForCausalLM.from_pretrained(\"google/gemma-2b\", device_map=\"auto\")\n",
    "compiled_model = torch.compile(model, mode=\"reduce-overhead\", fullgraph=True)"
   ]
  },
  {
   "cell_type": "code",
   "execution_count": 3,
   "id": "a22c486e",
   "metadata": {},
   "outputs": [],
   "source": [
    "from transformers import AutoTokenizer\n",
    "import os\n",
    "\n",
    "os.environ[\"http_proxy\"] = \"127.0.0.1:2334\"\n",
    "os.environ[\"https_proxy\"] = \"127.0.0.1:2334\"\n",
    "\n",
    "tokenizer = AutoTokenizer.from_pretrained(\"google/gemma-2b\")\n",
    "input_ids = tokenizer(\n",
    "    \"The capital of Russia is \",\n",
    "    return_tensors=\"pt\",\n",
    ").to(\"cuda\")"
   ]
  },
  {
   "cell_type": "code",
   "execution_count": 22,
   "id": "a6f9ef39",
   "metadata": {},
   "outputs": [],
   "source": [
    "generated_res = compiled_model.generate(**input_ids)"
   ]
  },
  {
   "cell_type": "code",
   "execution_count": 23,
   "id": "fc6e2629",
   "metadata": {},
   "outputs": [
    {
     "data": {
      "text/plain": [
       "'<bos>The capital of Russia is <strong>Moscow</strong>. It is the largest city in Russia and the largest city in Europe. Moscow is'"
      ]
     },
     "execution_count": 23,
     "metadata": {},
     "output_type": "execute_result"
    }
   ],
   "source": [
    "tokenizer.decode(generated_res[-1])"
   ]
  }
 ],
 "metadata": {
  "kernelspec": {
   "display_name": "base",
   "language": "python",
   "name": "python3"
  },
  "language_info": {
   "codemirror_mode": {
    "name": "ipython",
    "version": 3
   },
   "file_extension": ".py",
   "mimetype": "text/x-python",
   "name": "python",
   "nbconvert_exporter": "python",
   "pygments_lexer": "ipython3",
   "version": "3.11.12"
  }
 },
 "nbformat": 4,
 "nbformat_minor": 5
}
